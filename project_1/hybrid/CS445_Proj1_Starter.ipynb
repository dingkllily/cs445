{
  "nbformat": 4,
  "nbformat_minor": 0,
  "metadata": {
    "kernelspec": {
      "display_name": "Python 3",
      "language": "python",
      "name": "python3"
    },
    "language_info": {
      "codemirror_mode": {
        "name": "ipython",
        "version": 3
      },
      "file_extension": ".py",
      "mimetype": "text/x-python",
      "name": "python",
      "nbconvert_exporter": "python",
      "pygments_lexer": "ipython3",
      "version": "3.7.1"
    },
    "colab": {
      "name": "CS445_Proj1_Starter.ipynb",
      "provenance": [],
      "toc_visible": true
    }
  },
  "cells": [
    {
      "cell_type": "markdown",
      "metadata": {
        "id": "ps1Z52rWkMSk",
        "colab_type": "text"
      },
      "source": [
        "# Programming Project #1: Hybrid Images"
      ]
    },
    {
      "cell_type": "markdown",
      "metadata": {
        "id": "eSzT25GwkMSl",
        "colab_type": "text"
      },
      "source": [
        "## CS445: Computational Photography"
      ]
    },
    {
      "cell_type": "markdown",
      "metadata": {
        "id": "kYtDyOhJkMSm",
        "colab_type": "text"
      },
      "source": [
        "### Part I: Hybrid Images"
      ]
    },
    {
      "cell_type": "code",
      "metadata": {
        "id": "nuz8eybjnZ0t",
        "colab_type": "code",
        "colab": {}
      },
      "source": [
        "# Optional, if using Google Colab w/ Drive\n",
        "from google.colab import drive\n",
        "drive.mount('/content/drive', force_remount=True)\n",
        "\n"
      ],
      "execution_count": null,
      "outputs": []
    },
    {
      "cell_type": "code",
      "metadata": {
        "id": "YzHMxFdPkMSm",
        "colab_type": "code",
        "colab": {}
      },
      "source": [
        "import cv2\n",
        "\n",
        "import numpy as np\n",
        "from matplotlib.colors import LogNorm\n",
        "from scipy import signal\n",
        "\n",
        "# modify to where you store your project data including utils.py\n",
        "datadir = \"/content/drive/My Drive/cs445_projects/proj1/\" \n",
        "\n",
        "utilfn = datadir + \"utils.py\"\n",
        "!cp \"$utilfn\" .\n",
        "import utils"
      ],
      "execution_count": null,
      "outputs": []
    },
    {
      "cell_type": "code",
      "metadata": {
        "id": "Bs4F36-4kMSq",
        "colab_type": "code",
        "colab": {}
      },
      "source": [
        "# switch from notebook to inline if using colab or otherwise cannot use interactive display)\n",
        "%matplotlib notebook  \n",
        "import matplotlib.pyplot as plt"
      ],
      "execution_count": null,
      "outputs": []
    },
    {
      "cell_type": "code",
      "metadata": {
        "id": "gBkEVnNHkMSt",
        "colab_type": "code",
        "colab": {}
      },
      "source": [
        "im1_file = datadir + 'nutmeg.jpg'\n",
        "im2_file = datadir + 'DerekPicture.jpg'\n",
        "\n",
        "im1 = np.float32(cv2.imread(im1_file, cv2.IMREAD_GRAYSCALE) / 255.0)\n",
        "im2 = np.float32(cv2.imread(im2_file, cv2.IMREAD_GRAYSCALE) / 255.0)"
      ],
      "execution_count": null,
      "outputs": []
    },
    {
      "cell_type": "code",
      "metadata": {
        "id": "RxOD0znqkMSz",
        "colab_type": "code",
        "colab": {}
      },
      "source": [
        "pts_im1 = utils.prompt_eye_selection(im1)\n",
        "# pts_im1 = np.array([[607, 290], [748, 370]]) # uncomment if entering [x, y] pts manually\n",
        "# plt.plot(pts_im1[:,0], pts_im1[:,1], 'r-+')"
      ],
      "execution_count": null,
      "outputs": []
    },
    {
      "cell_type": "code",
      "metadata": {
        "id": "PTFwakGgkMS2",
        "colab_type": "code",
        "colab": {}
      },
      "source": [
        "pts_im2 = utils.prompt_eye_selection(im2)\n",
        "# pts_im2 = np.array([[299,343], [439,331]]) # uncomment if entering [x, y] pts manually\n",
        "# plt.plot(pts_im2[:,0], pts_im2[:,1], 'r-+')"
      ],
      "execution_count": null,
      "outputs": []
    },
    {
      "cell_type": "code",
      "metadata": {
        "id": "YtNVQUO0kMS6",
        "colab_type": "code",
        "colab": {}
      },
      "source": [
        "im1, im2 = utils.align_images(im1_file, im2_file,pts_im1,pts_im2,save_images=False)\n"
      ],
      "execution_count": null,
      "outputs": []
    },
    {
      "cell_type": "code",
      "metadata": {
        "id": "Br8nOfGSkMS_",
        "colab_type": "code",
        "colab": {}
      },
      "source": [
        "# convert to grayscale\n",
        "im1 = cv2.cvtColor(im1, cv2.COLOR_BGR2GRAY) / 255.0\n",
        "im2 = cv2.cvtColor(im2, cv2.COLOR_BGR2GRAY) / 255.0"
      ],
      "execution_count": null,
      "outputs": []
    },
    {
      "cell_type": "code",
      "metadata": {
        "id": "ATj-_4y7kMTE",
        "colab_type": "code",
        "colab": {}
      },
      "source": [
        "#Images sanity check\n",
        "fig, axes = plt.subplots(1, 2)\n",
        "axes[0].imshow(im1,cmap='gray')\n",
        "axes[0].set_title('Image 1'), axes[0].set_xticks([]), axes[0].set_yticks([])\n",
        "axes[1].imshow(im2,cmap='gray')\n",
        "axes[1].set_title('Image 2'), axes[1].set_xticks([]), axes[1].set_yticks([]);"
      ],
      "execution_count": null,
      "outputs": []
    },
    {
      "cell_type": "code",
      "metadata": {
        "id": "SxJTlAQPkMTH",
        "colab_type": "code",
        "colab": {}
      },
      "source": [
        "def hybridImage(im1, im2, sigma_low, sigma_high):\n",
        "    '''\n",
        "    Inputs:\n",
        "        im1:    RGB (height x width x 3) or a grayscale (height x width) image\n",
        "                as a numpy array.\n",
        "        im2:    RGB (height x width x 3) or a grayscale (height x width) image\n",
        "                as a numpy array.\n",
        "        sigma_low: standard deviation for the low-pass filter\n",
        "        sigma_high: standard deviation for the high-pass filter\n",
        "        \n",
        "    Output:\n",
        "        Return the combination of both images, one filtered with a low-pass filter\n",
        "        and the other with a high-pass filter.\n",
        "    '''  \n",
        "\n",
        "    # your code goes here  \n"
      ],
      "execution_count": null,
      "outputs": []
    },
    {
      "cell_type": "code",
      "metadata": {
        "id": "2HEAywCvkMTK",
        "colab_type": "code",
        "colab": {}
      },
      "source": [
        "sigma_low = 20 # choose parameters that work for your images\n",
        "sigma_high = 20\n",
        "\n",
        "im_hybrid = hybridImage(im2, im1, sigma_low, sigma_high)\n"
      ],
      "execution_count": null,
      "outputs": []
    },
    {
      "cell_type": "code",
      "metadata": {
        "id": "VnCa2YbvkMTN",
        "colab_type": "code",
        "colab": {}
      },
      "source": [
        "# Optional: Select top left corner and bottom right corner to crop image\n",
        "# the function returns dictionary of \n",
        "# {\n",
        "#   'cropped_image': np.ndarray of shape H x W\n",
        "#   'crop_bound': np.ndarray of shape 2x2\n",
        "# }\n",
        "cropped_object = utils.interactive_crop(im_hybrid)"
      ],
      "execution_count": null,
      "outputs": []
    },
    {
      "cell_type": "markdown",
      "metadata": {
        "id": "0tvnAx4TkMTR",
        "colab_type": "text"
      },
      "source": [
        "### Part II: Image Enhancement"
      ]
    },
    {
      "cell_type": "markdown",
      "metadata": {
        "id": "xwlPNKIPkMTS",
        "colab_type": "text"
      },
      "source": [
        "##### Two out of three types of image enhancement are required.  Choose a good image to showcase each type and implement a method.  This code doesn't rely on the hybrid image part."
      ]
    },
    {
      "cell_type": "markdown",
      "metadata": {
        "id": "HZG-LMmRkMTT",
        "colab_type": "text"
      },
      "source": [
        "#### Contrast enhancement"
      ]
    },
    {
      "cell_type": "code",
      "metadata": {
        "id": "CZLTfqYIkMTT",
        "colab_type": "code",
        "colab": {}
      },
      "source": [
        "\n"
      ],
      "execution_count": null,
      "outputs": []
    },
    {
      "cell_type": "markdown",
      "metadata": {
        "id": "JpJEnySRkMTW",
        "colab_type": "text"
      },
      "source": [
        "#### Color enhancement "
      ]
    },
    {
      "cell_type": "code",
      "metadata": {
        "id": "KCIN5A2pkMTX",
        "colab_type": "code",
        "colab": {}
      },
      "source": [
        ""
      ],
      "execution_count": null,
      "outputs": []
    },
    {
      "cell_type": "markdown",
      "metadata": {
        "id": "tURJ5105kMTa",
        "colab_type": "text"
      },
      "source": [
        "#### Color shift"
      ]
    },
    {
      "cell_type": "code",
      "metadata": {
        "id": "0mejdC0XkMTb",
        "colab_type": "code",
        "colab": {}
      },
      "source": [
        "\n"
      ],
      "execution_count": null,
      "outputs": []
    }
  ]
}